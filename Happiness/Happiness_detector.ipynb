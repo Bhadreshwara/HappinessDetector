{
 "cells": [
  {
   "cell_type": "code",
   "execution_count": 1,
   "metadata": {},
   "outputs": [],
   "source": [
    "#Importing the Libraries\n",
    "import cv2 as cv\n",
    "\n",
    "\n"
   ]
  },
  {
   "cell_type": "code",
   "execution_count": 4,
   "metadata": {},
   "outputs": [],
   "source": [
    "\n",
    "\n",
    "#Loading the Cascade\n",
    "face_cascade = cv.CascadeClassifier('haarcascade_frontalface_default.xml')\n",
    "eye_cascade = cv.CascadeClassifier('haarcascade_eye.xml')\n",
    "smile_cascade = cv.CascadeClassifier('haarcascade_smile.xml')\n",
    "mouth_cascade = cv.CascadeClassifier('Mouth.xml')\n",
    "nose_cascade = cv.CascadeClassifier('Nariz.xml')\n",
    "\n",
    "\n",
    "#Defining a function that will do the detections\n",
    "def detect(gray, frame):\n",
    "    faces = face_cascade.detectMultiScale(gray, 1.3, 5)\n",
    "    for (x, y, w, h) in faces:\n",
    "        cv.rectangle(frame, (x, y), (x+w, y+h), (0, 0, 255), 2)\n",
    "        fx=x\n",
    "        fy=y\n",
    "        roi_gray = gray[y:y+h, x:x+w]\n",
    "        roi_color = frame[y:y+h, x:x+w]\n",
    "        cv.putText(roi_color,\"Face\",(fx, fy), cv.FONT_HERSHEY_SIMPLEX, 0.55, (0, 0, 255), 1)\n",
    "        eyes = eye_cascade.detectMultiScale(roi_gray, 1.1, 22)\n",
    "        for (ex, ey, ew, eh) in eyes:\n",
    "            cv.rectangle(roi_color,(ex, ey),(ex+ew, ey+eh), (0, 255, 0), 2)\n",
    "            cv.putText(roi_color,\"eyes\",(ex, ey), cv.FONT_HERSHEY_SIMPLEX, 0.55, (0, 255, 0), 1)\n",
    "        smile = smile_cascade.detectMultiScale(roi_gray, 1.8, 25)\n",
    "        for (sx, sy, sw, sh) in smile:\n",
    "            cv.rectangle(roi_color,(sx, sy),(sx+sw, sy+sh), (255, 0, 255), 2)\n",
    "            cv.putText(roi_color,\"smile\",(sx, sy), cv.FONT_HERSHEY_SIMPLEX, 0.55, (255, 0, 255), 1)\n",
    "        nose = nose_cascade.detectMultiScale(roi_gray, 1.8, 20)\n",
    "        for (nx, ny, nw, nh) in nose:\n",
    "            cv.rectangle(roi_color,(nx, ny),(nx+nw, ny+nh), (255, 0, 0), 2)\n",
    "            cv.putText(roi_color,\"nose\",(nx, ny), cv.FONT_HERSHEY_SIMPLEX, 0.55, (255, 0, 0), 1)\n",
    "    return frame\n",
    "\n",
    "#Doing some Face Recognition with the Webcame\n",
    "cap = cv.VideoCapture(0)\n",
    "\n",
    "while(True):\n",
    "    # Capture frame-by-frame\n",
    "    _, frame = cap.read()\n",
    "    \n",
    "    #Converting into Gray\n",
    "    gray = cv.cvtColor(frame, cv.COLOR_BGR2GRAY)  \n",
    "    \n",
    "    canvas = detect(gray, frame)    \n",
    "    \n",
    "    cv.imshow('Video', canvas)\n",
    "    \n",
    "    crop = frame[100:300, 40:240]\n",
    "    \n",
    "    if cv.waitKey(1) & 0xFF == ord('q'):\n",
    "        break\n",
    "\n",
    "cap.release()\n",
    "cv.destroyAllWindows()"
   ]
  },
  {
   "cell_type": "code",
   "execution_count": null,
   "metadata": {},
   "outputs": [],
   "source": []
  }
 ],
 "metadata": {
  "kernelspec": {
   "display_name": "Python 3",
   "language": "python",
   "name": "python3"
  },
  "language_info": {
   "codemirror_mode": {
    "name": "ipython",
    "version": 3
   },
   "file_extension": ".py",
   "mimetype": "text/x-python",
   "name": "python",
   "nbconvert_exporter": "python",
   "pygments_lexer": "ipython3",
   "version": "3.6.6"
  }
 },
 "nbformat": 4,
 "nbformat_minor": 4
}
